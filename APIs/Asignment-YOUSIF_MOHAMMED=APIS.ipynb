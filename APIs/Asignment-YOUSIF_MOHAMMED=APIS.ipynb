{
 "cells": [
  {
   "cell_type": "markdown",
   "metadata": {},
   "source": [
    "Task 1\n",
    "--------------\n",
    "get the details of all the users from \n",
    "this api https://gorest.co.in/public-api/users \n",
    "from all the pages and ssave it to a csv file.\n",
    "(name,email,gender,status(0,1))\n",
    "then get the number of the active females.\n"
   ]
  },
  {
   "cell_type": "code",
   "execution_count": null,
   "metadata": {},
   "outputs": [],
   "source": [
    "import requests\n",
    "import pandas as pd\n",
    "import csv\n",
    "response=requests.get(\"https://api.thecatapi.com/v1/breeds\").json()\n",
    "with open (\"ALL_users.csv\",\"w\",encoding=\"utf-8\",newline=\"\") as file:\n",
    "    writer=csv.writer(file)\n",
    "    writer.writerow([\"name\",\"gender\",\"status\",\"email\"])\n",
    "    for page_n in range(1,293):\n",
    "        response=requests.get(f\"https://gorest.co.in/public-api/users?page={page_n}\").json()\n",
    "        for user in  response[\"data\"]:\n",
    "            writer.writerow([user[\"name\"],user[\"gender\"],user[\"status\"],user[\"email\"]])"
   ]
  },
  {
   "cell_type": "markdown",
   "metadata": {},
   "source": [
    "Task 2\n",
    "---------\n",
    "Use this web service \n",
    "https://jsonplaceholder.typicode.com/users\n",
    "and make a program that get all users data including\n",
    "name, username, email, street, suite, city, zip code, geo_lat & geo_long \n",
    "and then save them in a CSV file."
   ]
  },
  {
   "cell_type": "code",
   "execution_count": null,
   "metadata": {},
   "outputs": [],
   "source": [
    "import requests\n",
    "import csv\n",
    "placeholder = requests.get(\"https://jsonplaceholder.typicode.com/users\").json()\n",
    "with open(\"placeholder.csv\", \"w\",newline=\"\") as file:\n",
    "    writer = csv.writer(file)\n",
    "    writer.writerow( [\"name\", \"username\", \"email\", \"street\", \"suite\", \"city\", \"zipcode\", \"geo_lat\", \"geo_long\"])\n",
    "    for places in placeholder:\n",
    "        row=[places[\"username\"],places[\"email\"],places[\"address\"][\"street\"],places[\"address\"][\"suite\"],places[\"address\"][\"city\"],places[\"address\"][\"zipcode\"],\n",
    "        places[\"address\"][\"geo\"][\"lat\"],places[\"address\"][\"geo\"][\"lng\"]]\n",
    "        writer.writerow(row)\n",
    "        "
   ]
  },
  {
   "cell_type": "markdown",
   "metadata": {},
   "source": [
    "Task 3\n",
    "-------\n",
    "Use this web service\n",
    "https://api.frankfurter.app/latest?amount=1&from=USD&to=EUR \n",
    "and then use it to make a software that takes amount of USD Dollars from the user and calculate how much will it cost in EUR.\n",
    "hint: take a look on the url of the service can you guess how I can modify it to calculate the 10$ for EUR for example ?!"
   ]
  },
  {
   "cell_type": "code",
   "execution_count": null,
   "metadata": {},
   "outputs": [],
   "source": [
    "amount =float(input(\"entera mount\"))\n",
    "response=requests.get(f\"https://api.frankfurter.app/latest?amount={amount} &from=USD&to=EUR\").json()\n",
    "EUR_amount=response[\"rates\"][\"EUR\"]\n",
    "print(f\"{amount} USD is equal to {EUR_amount} EUR.\")"
   ]
  }
 ],
 "metadata": {
  "kernelspec": {
   "display_name": "Python 3",
   "language": "python",
   "name": "python3"
  },
  "language_info": {
   "codemirror_mode": {
    "name": "ipython",
    "version": 3
   },
   "file_extension": ".py",
   "mimetype": "text/x-python",
   "name": "python",
   "nbconvert_exporter": "python",
   "pygments_lexer": "ipython3",
   "version": "3.7.6"
  }
 },
 "nbformat": 4,
 "nbformat_minor": 4
}
